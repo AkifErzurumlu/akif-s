{
 "cells": [
  {
   "cell_type": "code",
   "execution_count": 3,
   "id": "1935c751-e1b1-4cd8-9ae2-cc2973839853",
   "metadata": {},
   "outputs": [
    {
     "name": "stdin",
     "output_type": "stream",
     "text": [
      "Enter player name:  akif\n",
      "Enter player health:  100\n",
      "Enter player damage:  25\n",
      "Enter player level:  50\n",
      "Enter enemy name:  yunus\n",
      "Enter enemy health:  16\n",
      "Enter enemy damage:  24\n",
      "Enter enemy type:  34\n"
     ]
    },
    {
     "name": "stdout",
     "output_type": "stream",
     "text": [
      "Player: akif, Health: 100, Damage: 25, Level: 50\n",
      "Enemy: yunus, Type: 34, Health: 16, Damage: 24\n",
      "akif attacks yunus for 25 damage!\n",
      "yunus has been defeated!\n",
      "yunus attacks akif for 24 damage!\n",
      "akif has 76 health left.\n"
     ]
    }
   ],
   "source": [
    "class Character:\n",
    "    def __init__(self, name, health, damage):\n",
    "        self.name = name                 \n",
    "        self._health = health             \n",
    "        self.__damage = damage            \n",
    "\n",
    "    def attack(self, target):             \n",
    "        print(f\"{self.name} attacks {target.name} for {self.__damage} damage!\")\n",
    "        target._take_damage(self.__damage)\n",
    "\n",
    "    def _take_damage(self, damage):       \n",
    "        self._health -= damage\n",
    "        if self._health > 0:\n",
    "            print(f\"{self.name} has {self._health} health left.\")\n",
    "        else:\n",
    "            print(f\"{self.name} has been defeated!\")\n",
    "\n",
    "    def get_damage(self):                 \n",
    "        return self.__damage\n",
    "\n",
    "\n",
    "class Player(Character):\n",
    "    def __init__(self, name, health, damage, level):\n",
    "        super().__init__(name, health, damage)\n",
    "        self.level = level                \n",
    "\n",
    "    def display_info(self):               \n",
    "        print(f\"Player: {self.name}, Health: {self._health}, Damage: {self.get_damage()}, Level: {self.level}\")\n",
    "\n",
    "\n",
    "class Enemy(Character):\n",
    "    def __init__(self, name, health, damage, enemy_type):\n",
    "        super().__init__(name, health, damage)\n",
    "        self.enemy_type = enemy_type      \n",
    "\n",
    "    def display_info(self):               \n",
    "        print(f\"Enemy: {self.name}, Type: {self.enemy_type}, Health: {self._health}, Damage: {self.get_damage()}\")\n",
    "\n",
    "\n",
    "def create_player():                      \n",
    "    name = input(\"Enter player name: \")\n",
    "    health = int(input(\"Enter player health: \"))\n",
    "    damage = int(input(\"Enter player damage: \"))\n",
    "    level = int(input(\"Enter player level: \"))\n",
    "    return Player(name, health, damage, level)\n",
    "\n",
    "def create_enemy():                       \n",
    "    name = input(\"Enter enemy name: \")\n",
    "    health = int(input(\"Enter enemy health: \"))\n",
    "    damage = int(input(\"Enter enemy damage: \"))\n",
    "    enemy_type = input(\"Enter enemy type: \")\n",
    "    return Enemy(name, health, damage, enemy_type)\n",
    "\n",
    "\n",
    "player = create_player()                  \n",
    "enemy = create_enemy()                    \n",
    "\n",
    "\n",
    "player.display_info()                  \n",
    "enemy.display_info()                   \n",
    "\n",
    "\n",
    "player.attack(enemy)                    \n",
    "enemy.attack(player)         "
   ]
  }
 ],
 "metadata": {
  "kernelspec": {
   "display_name": "Python 3 (ipykernel)",
   "language": "python",
   "name": "python3"
  },
  "language_info": {
   "codemirror_mode": {
    "name": "ipython",
    "version": 3
   },
   "file_extension": ".py",
   "mimetype": "text/x-python",
   "name": "python",
   "nbconvert_exporter": "python",
   "pygments_lexer": "ipython3",
   "version": "3.12.7"
  }
 },
 "nbformat": 4,
 "nbformat_minor": 5
}
